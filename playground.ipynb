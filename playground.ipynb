{
 "cells": [
  {
   "cell_type": "code",
   "execution_count": 5,
   "metadata": {},
   "outputs": [
    {
     "name": "stderr",
     "output_type": "stream",
     "text": [
      "2024-06-22 15:51:16,216 INFO numerapi.utils: target file already exists\n",
      "2024-06-22 15:51:16,216 INFO numerapi.utils: download complete\n",
      "2024-06-22 15:51:17,141 INFO numerapi.utils: target file already exists\n",
      "2024-06-22 15:51:17,141 INFO numerapi.utils: download complete\n"
     ]
    },
    {
     "data": {
      "text/plain": [
       "'data/train_targets.parquet'"
      ]
     },
     "execution_count": 5,
     "metadata": {},
     "output_type": "execute_result"
    }
   ],
   "source": [
    "from numerapi import NumerAPI\n",
    "\n",
    "napi = NumerAPI()\n",
    "\n",
    "napi.download_dataset(\"crypto/v1.0/live_universe.parquet\", \"data/live_universe.parquet\")\n",
    "napi.download_dataset(\"crypto/v1.0/train_targets.parquet\", \"data/train_targets.parquet\")"
   ]
  },
  {
   "cell_type": "code",
   "execution_count": 6,
   "metadata": {},
   "outputs": [],
   "source": [
    "import pandas as pd\n",
    "import lightgbm as lgb"
   ]
  },
  {
   "cell_type": "code",
   "execution_count": 7,
   "metadata": {},
   "outputs": [],
   "source": [
    "train = pd.read_parquet(\"data/train_targets.parquet\")\n",
    "live = pd.read_parquet(\"data/live_universe.parquet\")"
   ]
  },
  {
   "cell_type": "code",
   "execution_count": 8,
   "metadata": {},
   "outputs": [
    {
     "data": {
      "text/plain": [
       "(array(['0xBTC', 'ABBC', 'ABT', ..., 'BITCOIN', 'SHDW', 'SNEK'],\n",
       "       dtype=object),\n",
       " array(['BTC', 'ETH', 'BNB', 'SOL', 'XRP', 'DOGE', 'TON', 'ADA', 'AVAX',\n",
       "        'SHIB', 'TRX', 'LINK', 'DOT', 'BCH', 'NEAR', 'UNI', 'MATIC', 'LTC',\n",
       "        'LEO', 'PEPE', 'ICP', 'KAS', 'ETC', 'APT', 'XMR', 'RNDR', 'HBAR',\n",
       "        'XLM', 'ATOM', 'ARB', 'OKB', 'FIL', 'CRO', 'STX', 'IMX', 'MKR',\n",
       "        'SUI', 'VET', 'GRT', 'OP', 'TAO', 'INJ', 'AR', 'FLOKI', 'FTM',\n",
       "        'BGB', 'THETA', 'FLZ', 'JASMY', 'RUNE', 'BONK', 'FET', 'CORE',\n",
       "        'AAVE', 'ALGO', 'CHEEL', 'FLR', 'FLOW', 'KCS', 'PENDLE', 'QNT',\n",
       "        'GALA', 'AXS', 'ORDI', 'BSV', 'BEAM', 'EOS', 'ENS', 'DYDX', 'BTT',\n",
       "        'GNO', 'NEO', 'EGLD', 'XTZ', 'RON', 'SAND', 'WLD', 'GT', 'AKT',\n",
       "        'NEXO', 'CHZ', 'FTN', 'SNX', 'DEXE', 'SAFE', 'MINA', 'XEC', 'ROSE',\n",
       "        'CFX', 'CAKE', 'LPT', 'KLAY', 'OM', 'XAUt', 'IOTA', 'APE', 'HNT',\n",
       "        'AIOZ', '1INCH', 'LUNC', 'KAVA', 'CKB', 'XDC', 'FTT', 'TFUEL',\n",
       "        'NFT', 'BTG', 'BLUR', 'TWT', 'AXL', 'CRV', 'COMP', 'PEOPLE',\n",
       "        'IOTX', 'RAY', 'WOO', 'SSV', 'ASTR', 'BNX', 'PRIME', 'MX', 'OSMO',\n",
       "        'GLM', 'WEMIX', 'KSM', 'TURBO', 'GMT', 'PEPECOIN', 'SFP', 'SUPER',\n",
       "        'LUNA', 'ZEC', 'XRD', 'CELO', 'ILV', 'HOT', 'ZIL', 'CVX', 'ZRX',\n",
       "        'POLYX', 'SKL', 'RSR', 'INF', 'METIS', 'BAT', 'ENJ', 'ELF', 'DASH',\n",
       "        'BICO', 'JST', 'FXS', 'ABT', 'QTUM', 'RSS3', 'GMX', 'SC', 'ETHW',\n",
       "        'TRAC', 'TRB', 'GAL', 'XCH', 'GAS', 'ID', 'MASK', 'DCR', 'CSPR',\n",
       "        'ZETA', 'YGG', 'LRC', 'BDX', 'CFG', 'T', 'FLUX', 'TBTC', 'TEL',\n",
       "        'vETH', 'UMA', 'ONE', 'SUSHI', 'BabyDoge', 'VANRY', '0x0', 'API3',\n",
       "        'AMP', 'CHR', 'YFI', 'ONT', 'VTHO', 'AUDIO', 'ACH', 'BAL', 'FNSA',\n",
       "        'BORG', 'GLMR', 'NTRN', 'EDU', 'AGI', 'RLB', 'DESO', 'LCX', 'KDA',\n",
       "        'BAND', 'TRU', 'RLC', 'MAGIC', 'CTC', 'PRO', 'AZERO', 'LSK', 'SXP',\n",
       "        'ICX', 'PROM', 'VENOM', 'STORJ', 'SURE', 'COTI', 'WAVAX', 'C98',\n",
       "        'IOST', 'WAXP', 'ONG', 'ZENT', 'POND', 'DGB', 'CTSI', 'NOS',\n",
       "        'DUSK', 'WMT', 'APEX', 'SLP', 'XEM', 'CQT', 'NMR', 'CREAM', 'ATOR',\n",
       "        'CELR', 'BMX', 'ALPH', 'XNO', 'Gomining', 'JOE', 'POKT', 'ORAI',\n",
       "        'SUN', 'BONE', 'ZIG', 'BITCOIN', 'IQ', 'OAS', 'BAKE', 'CVC', 'REQ',\n",
       "        'AUCTION', 'NYM', 'BLZ', 'WILD', 'HIVE', 'LON', 'POWR', 'SNT',\n",
       "        'LADYS', 'KNC', 'NAKA', 'CTK', 'BORA', 'HONEY', 'LMWR', 'XVS',\n",
       "        'PCI', 'SFUND', 'MLK', 'MOVR', 'SPELL', 'PYR', 'SYS', 'ZEN', 'PHA',\n",
       "        'HIGH', 'PUNDIX', 'DENT', 'ARK', 'GNS', 'RIF', 'MVL', 'SYN',\n",
       "        'MOBILE', 'HOOK', 'PHB', 'STEEM', 'ORCA', 'ELON', 'XYO', 'SHDW',\n",
       "        'MPLX', 'WIN', 'NOIA', 'STRAX', 'ZCX', 'DAG', 'AITECH', 'DODO',\n",
       "        'BNT', 'HFT', 'AGLD', 'STG', 'LQTY', 'CGPT', 'PNG', 'FRONT',\n",
       "        'SCRT', 'DAO', 'CPOOL', 'ALICE', 'MBX', 'MAV', 'MTL', 'STPT',\n",
       "        'TLOS', 'MYRIA', 'CUDOS', 'VELO', 'DIONE', 'RBN', 'MBOX', 'ERG',\n",
       "        'ALPHA', 'ACA', 'RDNT', 'LEVER', 'ORBS', 'OXT', 'ARPA', 'MED',\n",
       "        'LOOM', 'XVG', 'DAR', 'RARE', 'GFI', 'AURORA', 'GHST', 'GEAR',\n",
       "        'ACS', 'RACA', 'TET', 'EWT', 'GTC', 'BADGER', 'UQC', 'NKN', 'STRX',\n",
       "        'HIFI', 'OGN', 'ALEPH', 'RAD', 'TRIAS', 'TKO', 'WXT', 'SNEK',\n",
       "        'DNX', 'LTO', 'ORN', 'STIK', 'GHX', 'WRX', 'VR', 'EUL', 'AIDOGE',\n",
       "        'POLS', 'QKC', 'ATA', 'TLM', 'LOOKS', 'ERN', 'DORA', 'GODS', 'MPL',\n",
       "        'CLV', 'BFIC', 'OCTA', 'BRISE', 'COMBO', 'ELA', 'MBL', 'ALEX',\n",
       "        'REI', 'PERP', 'CTXC', 'AOG', 'RARI', 'DATA', 'LAT', 'KMD', 'DNT',\n",
       "        'REN', 'XCN', 'OMG', 'FORTH', 'DIA', 'STMX', 'GOG', 'MLN', 'ATLAS',\n",
       "        'BOBA', 'LIT', 'SOLO', 'SWEAT', 'COS', 'ALI', 'FUN', 'BOSON',\n",
       "        'NULS', 'CBK', 'LOCUS', 'QUACK', 'ALCX', 'ETN', 'COREUM', 'MAPO',\n",
       "        'RLY', 'DMTR', 'UOS', 'XCHNG', 'ASM', 'FLM', 'WAN', 'AERGO',\n",
       "        'DEGO', 'LEASH', 'VAI', 'DEP', 'LINA', 'SIDUS', 'MDX', 'UNFI',\n",
       "        'CEL', 'BEL', 'FIDA', 'NUM', 'ROUTE', 'PDA', 'AL', 'DIMO', 'PSG',\n",
       "        'MATH', 'MDT', 'HUNT', 'VIC', 'LOKA', 'IDEX', 'AVA', 'BOTTO',\n",
       "        'FARM', 'PROPC', 'GFAL', 'BETA', 'SAMO', 'TT', 'DFI', 'STT',\n",
       "        'VRTX', 'CEEK', 'REEF', 'QUICK', 'STRK', 'VRA', 'KEY', 'BSW',\n",
       "        'ISIKC', 'IRIS', 'CERE', 'OPUL', 'ASD', 'VOXEL', 'CLORE', 'CRTS',\n",
       "        'CCD', 'CWIF', 'GST', 'MXC', 'AMPL', 'BURGER', 'GRS', 'UTK',\n",
       "        'XCAD', 'TRADE', 'KP3R', 'UFT', 'VLX', 'KLV', 'LIME', 'ADX',\n",
       "        'BIFI', 'FAR', 'BZZ', 'HGPT', 'TAVA', 'GLQ', 'TOMI', 'ALU', 'PIVX'],\n",
       "       dtype=object))"
      ]
     },
     "execution_count": 8,
     "metadata": {},
     "output_type": "execute_result"
    }
   ],
   "source": [
    "train[\"symbol\"].unique(), live[\"symbol\"].unique()"
   ]
  },
  {
   "cell_type": "code",
   "execution_count": 9,
   "metadata": {},
   "outputs": [],
   "source": [
    "all_symbols = set(train[\"symbol\"].unique()).union(set(live[\"symbol\"].unique()))\n",
    "pd.Series(list(all_symbols)).to_csv(\"data/all_symbols.csv\", index=False)"
   ]
  },
  {
   "cell_type": "code",
   "execution_count": 10,
   "metadata": {},
   "outputs": [],
   "source": [
    "predictions = (\n",
    "    train.groupby(\"symbol\")\n",
    "    .apply(\n",
    "        lambda x: x.sort_values(\"date\")[\"target\"]\n",
    "        .fillna(method=\"ffill\")\n",
    "        .rolling(10, min_periods=1)\n",
    "        .mean()\n",
    "        .iloc[-1]\n",
    "    )\n",
    "    .rank(pct=True)\n",
    "    .to_frame(\"signal\")\n",
    ")"
   ]
  },
  {
   "cell_type": "code",
   "execution_count": 11,
   "metadata": {},
   "outputs": [],
   "source": [
    "submission = live.merge(predictions, on=\"symbol\", how=\"left\").dropna()\n",
    "submission.to_csv(\"predictions/predictions.csv\", index=False)"
   ]
  },
  {
   "cell_type": "code",
   "execution_count": null,
   "metadata": {},
   "outputs": [],
   "source": []
  }
 ],
 "metadata": {
  "kernelspec": {
   "display_name": "signals",
   "language": "python",
   "name": "python3"
  },
  "language_info": {
   "codemirror_mode": {
    "name": "ipython",
    "version": 3
   },
   "file_extension": ".py",
   "mimetype": "text/x-python",
   "name": "python",
   "nbconvert_exporter": "python",
   "pygments_lexer": "ipython3",
   "version": "3.10.12"
  }
 },
 "nbformat": 4,
 "nbformat_minor": 2
}
